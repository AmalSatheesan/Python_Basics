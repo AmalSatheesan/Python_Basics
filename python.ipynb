{
 "cells": [
  {
   "cell_type": "markdown",
   "metadata": {},
   "source": [
    "# Python Basic Programs"
   ]
  },
  {
   "cell_type": "markdown",
   "metadata": {},
   "source": [
    "#### Write a program to print 'Hello World'"
   ]
  },
  {
   "cell_type": "code",
   "execution_count": 1,
   "metadata": {},
   "outputs": [
    {
     "name": "stdout",
     "output_type": "stream",
     "text": [
      "Hello World\n"
     ]
    }
   ],
   "source": [
    "print('Hello World')"
   ]
  },
  {
   "cell_type": "markdown",
   "metadata": {},
   "source": [
    "### Program 1"
   ]
  },
  {
   "cell_type": "markdown",
   "metadata": {},
   "source": [
    "####  Python program to do Arithematic and Division operation."
   ]
  },
  {
   "cell_type": "code",
   "execution_count": 1,
   "metadata": {},
   "outputs": [
    {
     "name": "stdout",
     "output_type": "stream",
     "text": [
      "sum: 10 + 5 = 15\n"
     ]
    }
   ],
   "source": [
    " # Addition\n",
    "num1 = int(input(\"Enter the first number for addition: \"))\n",
    "num2 = int(input(\"Enter the second number for addition: \"))\n",
    "sum_result = num1 + num2\n",
    "print(f\"sum: {num1} + {num2} = {sum_result}\")"
   ]
  },
  {
   "cell_type": "code",
   "execution_count": 2,
   "metadata": {},
   "outputs": [
    {
     "name": "stdout",
     "output_type": "stream",
     "text": [
      "Result = 15.0 / 5.0 = 3.0\n"
     ]
    }
   ],
   "source": [
    "# Divisiom\n",
    "num3 = float(input(\"Enter the Dividend : \"))\n",
    "num4 = float(input(\"Enter the Divisor : \"))\n",
    "if num4 == 0:\n",
    "    print(\"Error!!. Division by Zero\")\n",
    "else:\n",
    "    result = num3 / num4\n",
    "    print(f\"Result = {num3} / {num4} = {result}\")"
   ]
  },
  {
   "cell_type": "markdown",
   "metadata": {},
   "source": [
    "### Python program to find the area of a triangle."
   ]
  },
  {
   "cell_type": "code",
   "execution_count": 1,
   "metadata": {},
   "outputs": [
    {
     "name": "stdout",
     "output_type": "stream",
     "text": [
      "Area of the triangle : 150.0\n"
     ]
    }
   ],
   "source": [
    "#collecting input\n",
    "base = float(input(\"Enter the base length of the triangle :\"))\n",
    "height = float(input(\"Enter the height of the triangle:\"))\n",
    "#calculating Area\n",
    "Area = 0.5 * base * height\n",
    "#printing the output\n",
    "print(f\"Area of the triangle : {Area}\")"
   ]
  },
  {
   "cell_type": "markdown",
   "metadata": {},
   "source": [
    "#### Python program to swap two numbers"
   ]
  },
  {
   "cell_type": "code",
   "execution_count": 3,
   "metadata": {},
   "outputs": [
    {
     "name": "stdout",
     "output_type": "stream",
     "text": [
      "The numbers before swap is a = 15 and b = 30\n",
      "The numbers after swap is a = 30 and b = 15\n"
     ]
    }
   ],
   "source": [
    "#taking input\n",
    "a = int(input(\"Enter the first number:\"))\n",
    "b = int(input(\"Enter the second number:\"))\n",
    "#number before swap\n",
    "print(f\"The numbers before swap is a = {a} and b = {b}\")\n",
    "#swapping\n",
    "temp = a\n",
    "a = b\n",
    "b = temp\n",
    "#number after swap \n",
    "print(f\"The numbers after swap is a = {a} and b = {b}\")\n",
    "\n",
    "\n"
   ]
  },
  {
   "cell_type": "markdown",
   "metadata": {},
   "source": [
    "#### Python program to create a random number"
   ]
  },
  {
   "cell_type": "code",
   "execution_count": 5,
   "metadata": {},
   "outputs": [
    {
     "name": "stdout",
     "output_type": "stream",
     "text": [
      "Random number = 22\n"
     ]
    }
   ],
   "source": [
    "import random\n",
    "print(f\"Random number = {random.randint(1,100)}\")"
   ]
  },
  {
   "cell_type": "markdown",
   "metadata": {},
   "source": [
    "#### Python program to convert Kilometers to Miles. "
   ]
  },
  {
   "cell_type": "code",
   "execution_count": 1,
   "metadata": {},
   "outputs": [
    {
     "name": "stdout",
     "output_type": "stream",
     "text": [
      "10.0 km is equals to 6.21371 miles\n"
     ]
    }
   ],
   "source": [
    "Kilometer = float(input(\"Enter distance in Kilometers:\"))\n",
    "\n",
    "#Conversion factor : 1 kilometer = 0.621371 miles\n",
    "conversion_factor = 0.621371\n",
    "\n",
    "miles = Kilometer * conversion_factor\n",
    "\n",
    "print(f\"{Kilometer} km is equals to {miles} miles\")"
   ]
  },
  {
   "cell_type": "markdown",
   "metadata": {},
   "source": [
    "#### Python program to convert celsius to fahrenheit"
   ]
  },
  {
   "cell_type": "code",
   "execution_count": 3,
   "metadata": {},
   "outputs": [
    {
     "name": "stdout",
     "output_type": "stream",
     "text": [
      "50.0 degree celsius is equals to 122.0 degree fahrenheit\n"
     ]
    }
   ],
   "source": [
    "celsius = float(input(\"Enter temperature in Celsius: \"))\n",
    "\n",
    "#Conversion formula : Fahrenheit = (celsius * 9/5) + 32\n",
    "fahrenheit = (celsius * 9/5) +32\n",
    "\n",
    "print(f\"{celsius} degree celsius is equals to {fahrenheit} degree fahrenheit\")"
   ]
  },
  {
   "cell_type": "markdown",
   "metadata": {},
   "source": [
    "#### Python program to display calendar"
   ]
  },
  {
   "cell_type": "code",
   "execution_count": 5,
   "metadata": {},
   "outputs": [
    {
     "name": "stdout",
     "output_type": "stream",
     "text": [
      "    October 2000\n",
      "Mo Tu We Th Fr Sa Su\n",
      "                   1\n",
      " 2  3  4  5  6  7  8\n",
      " 9 10 11 12 13 14 15\n",
      "16 17 18 19 20 21 22\n",
      "23 24 25 26 27 28 29\n",
      "30 31\n",
      "\n"
     ]
    }
   ],
   "source": [
    "import calendar\n",
    "\n",
    "year = int(input(\"Enter year:\"))\n",
    "month = int(input(\"Enter a Month: \"))\n",
    "\n",
    "cal = calendar.month(year,month)\n",
    "\n",
    "print(cal)"
   ]
  },
  {
   "cell_type": "markdown",
   "metadata": {},
   "source": [
    "#### Python program to solve quadratic equation"
   ]
  },
  {
   "cell_type": "markdown",
   "metadata": {},
   "source": [
    "The standard form of a quadratic equation is:\n",
    "ax^2 + bx + c =0\n",
    " where\n",
    " a, b and c are real numbers and\n",
    " 𝑎 ≠ 0\n",
    " The solutions of this quadratic equation is given by:\n",
    "                (-b +- (b^2 - 4ac)^1/2)/(2a)"
   ]
  },
  {
   "cell_type": "code",
   "execution_count": 3,
   "metadata": {},
   "outputs": [
    {
     "name": "stdout",
     "output_type": "stream",
     "text": [
      "Root 1: -2.0 + 2.0i\n",
      "Root 2: -2.0 + 2.0i\n"
     ]
    }
   ],
   "source": [
    "import math\n",
    "\n",
    "#Input coefficients\n",
    "a = float(input(\"Enter coefficient a: \"))\n",
    "b = float(input(\"Enter coefficient b: \"))\n",
    "c = float(input(\"Enter coefficient c: \"))\n",
    "\n",
    "#Calculate the discriminant \n",
    "discriminant = b**2 - 4*a*c\n",
    "\n",
    "#Check if the discriminant is positive, negative or zero.\n",
    "if discriminant > 0:\n",
    "    #Two real and  distinct roots\n",
    "    root1 = (-b + math.sqrt(discriminant)) / (2*a)\n",
    "    root2 = (-b - math.sqrt(discriminant)) / (2*a)\n",
    "    print(f\"Root 1: {root1}\")\n",
    "    print(f\"Root 2: {root2}\")\n",
    "elif discriminant ==0:\n",
    "    #One real root (repeated)\n",
    "    root = -b / (2*a)\n",
    "    print(f\"Root: {root}\")\n",
    "else:\n",
    "    #Complex roots\n",
    "    real_part = -b / (2*a)\n",
    "    imaginary_part = math.sqrt(abs(discriminant)) / (2*a)\n",
    "    print(f\"Root 1: {real_part} + {imaginary_part}i\")\n",
    "    print(f\"Root 2: {real_part} + {imaginary_part}i\")\n",
    "    "
   ]
  },
  {
   "cell_type": "markdown",
   "metadata": {},
   "source": [
    "#### Python program to swap two variables without temp variable ."
   ]
  },
  {
   "cell_type": "code",
   "execution_count": 5,
   "metadata": {},
   "outputs": [
    {
     "name": "stdout",
     "output_type": "stream",
     "text": [
      "Before Swapping:\n",
      "a =  5\n",
      "b =  10\n",
      "After Swapping:\n",
      "a =  10\n",
      "b =  5\n"
     ]
    }
   ],
   "source": [
    "a = 5\n",
    "b = 10 \n",
    "\n",
    "print(\"Before Swapping:\")\n",
    "print(\"a = \", a )\n",
    "print(\"b = \", b)\n",
    "\n",
    "#Swapping without a temporary variable.\n",
    "a,b = b,a \n",
    "\n",
    "print(\"After Swapping:\")\n",
    "print(\"a = \", a )\n",
    "print(\"b = \", b)"
   ]
  },
  {
   "cell_type": "markdown",
   "metadata": {},
   "source": [
    "#### Python program to check if a number is positive negative or Zero"
   ]
  },
  {
   "cell_type": "code",
   "execution_count": 6,
   "metadata": {},
   "outputs": [
    {
     "name": "stdout",
     "output_type": "stream",
     "text": [
      "ZERO!\n"
     ]
    }
   ],
   "source": [
    "num = float(input(\"Enter a number:\"))\n",
    "\n",
    "if num > 0:\n",
    "    print(\"Positive number\")\n",
    "elif num<0:\n",
    "    print(\"Negative number\")\n",
    "else:\n",
    "    print(\"ZERO!\")"
   ]
  },
  {
   "cell_type": "markdown",
   "metadata": {},
   "source": [
    "### Python program to check if a Number is Odd or Even."
   ]
  },
  {
   "cell_type": "code",
   "execution_count": 2,
   "metadata": {},
   "outputs": [
    {
     "name": "stdout",
     "output_type": "stream",
     "text": [
      "This is an odd number\n"
     ]
    }
   ],
   "source": [
    "Num = int(input(\"Enter a number:\"))\n",
    "\n",
    "if Num%2 == 0:\n",
    "    print(\"This is an even number\")\n",
    "else:\n",
    "    print(\"This is an odd number\")"
   ]
  },
  {
   "cell_type": "markdown",
   "metadata": {},
   "source": [
    "### Python program to check Leap Year"
   ]
  },
  {
   "cell_type": "code",
   "execution_count": 1,
   "metadata": {},
   "outputs": [
    {
     "name": "stdout",
     "output_type": "stream",
     "text": [
      "1999 is not a leap year\n"
     ]
    }
   ],
   "source": [
    "year = int(input(\"Enter a year: \"))\n",
    "\n",
    "#century year should be divided by 400 is a leap year\n",
    "if (year % 400 == 0) and (year % 100 == 0):\n",
    "    print(\"{0} is a leap year\".format(year))\n",
    "\n",
    "#Non century year should be divided by 4 is a leap year\n",
    "elif (year % 4 == 0) and(year % 100 !=0):\n",
    "    print(\"{0} is a leap year\".format(year))\n",
    "else:\n",
    "    print(\"{0} is not a leap year\".format(year))"
   ]
  },
  {
   "cell_type": "markdown",
   "metadata": {},
   "source": [
    "### Python program to check whether a given number is prime or not\n",
    "A  prime number is a whole number that cannot be evenly divided by any other number\n",
    " except for 1 and itself. For example, 2, 3, 5, 7, 11, and 13 are prime numbers because they\n",
    " cannot be divided by any other positive integer except for 1 and their own value."
   ]
  },
  {
   "cell_type": "code",
   "execution_count": 8,
   "metadata": {},
   "outputs": [
    {
     "name": "stdout",
     "output_type": "stream",
     "text": [
      "7 is a prime number\n"
     ]
    }
   ],
   "source": [
    "num = int(input(\"Enter a number : \"))\n",
    "\n",
    "#define a flag variable\n",
    "flag = False\n",
    "\n",
    "if num == 1:\n",
    "    print(f\"{num} is not a prime number\")\n",
    "elif num > 1:\n",
    "    #check for factors\n",
    "    for i in range(2,num):\n",
    "        if(num % i)==0:\n",
    "            flag = True # if factor is found, set flag to True\n",
    "            break # Break out of the loop\n",
    "\n",
    "if flag:\n",
    "    print(f\"{num} is not a prime number\")\n",
    "else:\n",
    "    print(f\"{num} is a prime number\")\n",
    "\n",
    "\n"
   ]
  },
  {
   "cell_type": "markdown",
   "metadata": {},
   "source": [
    "### Python program to find factorial of a given number"
   ]
  },
  {
   "cell_type": "code",
   "execution_count": 5,
   "metadata": {},
   "outputs": [
    {
     "name": "stdout",
     "output_type": "stream",
     "text": [
      "factorial of 5 is  120\n"
     ]
    }
   ],
   "source": [
    "num = int(input(\"Enter a number:\"))\n",
    "\n",
    "factorial = 1\n",
    "\n",
    "if num<0:\n",
    "    print(\"Negative number don't have a factorial:\")\n",
    "\n",
    "elif num==0:\n",
    "    print(\"Factorial of 0 is 1\")\n",
    "\n",
    "else:\n",
    "    for i in range(1,num+1):\n",
    "        factorial *= i\n",
    "\n",
    "print(f'factorial of {num} is ', factorial)\n"
   ]
  },
  {
   "cell_type": "markdown",
   "metadata": {},
   "source": [
    "### Python program to check factorial of a number using recursion."
   ]
  },
  {
   "cell_type": "code",
   "execution_count": null,
   "metadata": {},
   "outputs": [
    {
     "name": "stdout",
     "output_type": "stream",
     "text": [
      "factorial of 5 is  No factorial Exists for Negative numbers\n"
     ]
    }
   ],
   "source": [
    "numb = int(input(\"Enter a number:\"))\n",
    "\n",
    "factorial = fact(numb)\n",
    "def fact(num):\n",
    "    if num<0:\n",
    "        return \"No factorial Exists for Negative numbers\"\n",
    "\n",
    "    elif num==0:\n",
    "        return 1\n",
    "    else:\n",
    "        return num * fact(num - 1)\n",
    "\n",
    "print(f'factorial of {num} is ', factorial) \n"
   ]
  },
  {
   "cell_type": "markdown",
   "metadata": {},
   "source": [
    "### Program to print multiplication Table of a desired number"
   ]
  },
  {
   "cell_type": "code",
   "execution_count": 1,
   "metadata": {},
   "outputs": [
    {
     "name": "stdout",
     "output_type": "stream",
     "text": [
      "100 X 1 = 100\n",
      "100 X 2 = 200\n",
      "100 X 3 = 300\n",
      "100 X 4 = 400\n",
      "100 X 5 = 500\n",
      "100 X 6 = 600\n",
      "100 X 7 = 700\n",
      "100 X 8 = 800\n",
      "100 X 9 = 900\n",
      "100 X 10 = 1000\n"
     ]
    }
   ],
   "source": [
    " num = int(input(\"Display multiplication table of: \"))\n",
    " for i in range(1, 11):\n",
    "    print(f\"{num} X {i} = {num*i}\")"
   ]
  },
  {
   "cell_type": "markdown",
   "metadata": {},
   "source": [
    "### Python Program to Print the Fibonacci sequence."
   ]
  },
  {
   "cell_type": "code",
   "execution_count": null,
   "metadata": {},
   "outputs": [],
   "source": [
    "nterms = int(input(\"Enter number of terms in Fibonacci sequence: \"))\n",
    "\n",
    "n1,n2 = 0, 1\n",
    "count = 0\n",
    "\n",
    "if nterms <= 0:\n",
    "    print(\"Please enter a positive integer\")\n",
    "elif nterms == 1:\n",
    "    print(\"Fibonacci sequence upto\", nterms, \":\")\n",
    "    print(n1)\n",
    "\n",
    "else: \n",
    "    print(\"Fibonacci sequence:\")\n",
    "    while count < nterms:\n",
    "        print(n1, end=' ')\n",
    "        nth = n1 + n2\n",
    "        # update values\n",
    "        n1 = n2\n",
    "        n2 = nth\n",
    "        count += 1\n",
    "\n"
   ]
  },
  {
   "cell_type": "markdown",
   "metadata": {},
   "source": []
  },
  {
   "cell_type": "code",
   "execution_count": null,
   "metadata": {},
   "outputs": [],
   "source": []
  }
 ],
 "metadata": {
  "kernelspec": {
   "display_name": "Python 3",
   "language": "python",
   "name": "python3"
  },
  "language_info": {
   "codemirror_mode": {
    "name": "ipython",
    "version": 3
   },
   "file_extension": ".py",
   "mimetype": "text/x-python",
   "name": "python",
   "nbconvert_exporter": "python",
   "pygments_lexer": "ipython3",
   "version": "3.11.9"
  }
 },
 "nbformat": 4,
 "nbformat_minor": 2
}
