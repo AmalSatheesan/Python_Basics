{
 "cells": [
  {
   "cell_type": "markdown",
   "metadata": {},
   "source": [
    "# Python Basic Programs"
   ]
  },
  {
   "cell_type": "markdown",
   "metadata": {},
   "source": [
    "#### Write a program to print 'Hello World'"
   ]
  },
  {
   "cell_type": "code",
   "execution_count": 1,
   "metadata": {},
   "outputs": [
    {
     "name": "stdout",
     "output_type": "stream",
     "text": [
      "Hello World\n"
     ]
    }
   ],
   "source": [
    "print('Hello World')"
   ]
  },
  {
   "cell_type": "markdown",
   "metadata": {},
   "source": [
    "### Program 1"
   ]
  },
  {
   "cell_type": "markdown",
   "metadata": {},
   "source": [
    "####  Python program to do Arithematic and Division operation."
   ]
  },
  {
   "cell_type": "code",
   "execution_count": 1,
   "metadata": {},
   "outputs": [
    {
     "name": "stdout",
     "output_type": "stream",
     "text": [
      "sum: 10 + 5 = 15\n"
     ]
    }
   ],
   "source": [
    " # Addition\n",
    "num1 = int(input(\"Enter the first number for addition: \"))\n",
    "num2 = int(input(\"Enter the second number for addition: \"))\n",
    "sum_result = num1 + num2\n",
    "print(f\"sum: {num1} + {num2} = {sum_result}\")"
   ]
  },
  {
   "cell_type": "code",
   "execution_count": 2,
   "metadata": {},
   "outputs": [
    {
     "name": "stdout",
     "output_type": "stream",
     "text": [
      "Result = 15.0 / 5.0 = 3.0\n"
     ]
    }
   ],
   "source": [
    "# Divisiom\n",
    "num3 = float(input(\"Enter the Dividend : \"))\n",
    "num4 = float(input(\"Enter the Divisor : \"))\n",
    "if num4 == 0:\n",
    "    print(\"Error!!. Division by Zero\")\n",
    "else:\n",
    "    result = num3 / num4\n",
    "    print(f\"Result = {num3} / {num4} = {result}\")"
   ]
  },
  {
   "cell_type": "markdown",
   "metadata": {},
   "source": [
    "### Python program to find the area of a triangle."
   ]
  },
  {
   "cell_type": "code",
   "execution_count": 1,
   "metadata": {},
   "outputs": [
    {
     "name": "stdout",
     "output_type": "stream",
     "text": [
      "Area of the triangle : 150.0\n"
     ]
    }
   ],
   "source": [
    "#collecting input\n",
    "base = float(input(\"Enter the base length of the triangle :\"))\n",
    "height = float(input(\"Enter the height of the triangle:\"))\n",
    "#calculating Area\n",
    "Area = 0.5 * base * height\n",
    "#printing the output\n",
    "print(f\"Area of the triangle : {Area}\")"
   ]
  },
  {
   "cell_type": "markdown",
   "metadata": {},
   "source": [
    "#### Python program to swap two numbers"
   ]
  },
  {
   "cell_type": "code",
   "execution_count": 3,
   "metadata": {},
   "outputs": [
    {
     "name": "stdout",
     "output_type": "stream",
     "text": [
      "The numbers before swap is a = 15 and b = 30\n",
      "The numbers after swap is a = 30 and b = 15\n"
     ]
    }
   ],
   "source": [
    "#taking input\n",
    "a = int(input(\"Enter the first number:\"))\n",
    "b = int(input(\"Enter the second number:\"))\n",
    "#number before swap\n",
    "print(f\"The numbers before swap is a = {a} and b = {b}\")\n",
    "#swapping\n",
    "temp = a\n",
    "a = b\n",
    "b = temp\n",
    "#number after swap \n",
    "print(f\"The numbers after swap is a = {a} and b = {b}\")\n",
    "\n",
    "\n"
   ]
  }
 ],
 "metadata": {
  "kernelspec": {
   "display_name": "base",
   "language": "python",
   "name": "python3"
  },
  "language_info": {
   "codemirror_mode": {
    "name": "ipython",
    "version": 3
   },
   "file_extension": ".py",
   "mimetype": "text/x-python",
   "name": "python",
   "nbconvert_exporter": "python",
   "pygments_lexer": "ipython3",
   "version": "3.11.9"
  }
 },
 "nbformat": 4,
 "nbformat_minor": 2
}
