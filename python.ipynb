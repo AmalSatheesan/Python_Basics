{
 "cells": [
  {
   "cell_type": "markdown",
   "metadata": {},
   "source": [
    "# Python Basic Programs"
   ]
  },
  {
   "cell_type": "markdown",
   "metadata": {},
   "source": [
    "#### Write a program to print 'Hello World'"
   ]
  },
  {
   "cell_type": "code",
   "execution_count": 1,
   "metadata": {},
   "outputs": [
    {
     "name": "stdout",
     "output_type": "stream",
     "text": [
      "Hello World\n"
     ]
    }
   ],
   "source": [
    "print('Hello World')"
   ]
  },
  {
   "cell_type": "markdown",
   "metadata": {},
   "source": [
    "### Program 1"
   ]
  },
  {
   "cell_type": "markdown",
   "metadata": {},
   "source": [
    "####  Python program to do Arithematic and Division operation."
   ]
  },
  {
   "cell_type": "code",
   "execution_count": 1,
   "metadata": {},
   "outputs": [
    {
     "name": "stdout",
     "output_type": "stream",
     "text": [
      "sum: 10 + 5 = 15\n"
     ]
    }
   ],
   "source": [
    " # Addition\n",
    "num1 = int(input(\"Enter the first number for addition: \"))\n",
    "num2 = int(input(\"Enter the second number for addition: \"))\n",
    "sum_result = num1 + num2\n",
    "print(f\"sum: {num1} + {num2} = {sum_result}\")"
   ]
  },
  {
   "cell_type": "code",
   "execution_count": 2,
   "metadata": {},
   "outputs": [
    {
     "name": "stdout",
     "output_type": "stream",
     "text": [
      "Result = 15.0 / 5.0 = 3.0\n"
     ]
    }
   ],
   "source": [
    "# Divisiom\n",
    "num3 = float(input(\"Enter the Dividend : \"))\n",
    "num4 = float(input(\"Enter the Divisor : \"))\n",
    "if num4 == 0:\n",
    "    print(\"Error!!. Division by Zero\")\n",
    "else:\n",
    "    result = num3 / num4\n",
    "    print(f\"Result = {num3} / {num4} = {result}\")"
   ]
  },
  {
   "cell_type": "markdown",
   "metadata": {},
   "source": [
    "### Python program to find the area of a triangle."
   ]
  },
  {
   "cell_type": "code",
   "execution_count": 1,
   "metadata": {},
   "outputs": [
    {
     "name": "stdout",
     "output_type": "stream",
     "text": [
      "Area of the triangle : 150.0\n"
     ]
    }
   ],
   "source": [
    "#collecting input\n",
    "base = float(input(\"Enter the base length of the triangle :\"))\n",
    "height = float(input(\"Enter the height of the triangle:\"))\n",
    "#calculating Area\n",
    "Area = 0.5 * base * height\n",
    "#printing the output\n",
    "print(f\"Area of the triangle : {Area}\")"
   ]
  },
  {
   "cell_type": "markdown",
   "metadata": {},
   "source": [
    "#### Python program to swap two numbers"
   ]
  },
  {
   "cell_type": "code",
   "execution_count": 3,
   "metadata": {},
   "outputs": [
    {
     "name": "stdout",
     "output_type": "stream",
     "text": [
      "The numbers before swap is a = 15 and b = 30\n",
      "The numbers after swap is a = 30 and b = 15\n"
     ]
    }
   ],
   "source": [
    "#taking input\n",
    "a = int(input(\"Enter the first number:\"))\n",
    "b = int(input(\"Enter the second number:\"))\n",
    "#number before swap\n",
    "print(f\"The numbers before swap is a = {a} and b = {b}\")\n",
    "#swapping\n",
    "temp = a\n",
    "a = b\n",
    "b = temp\n",
    "#number after swap \n",
    "print(f\"The numbers after swap is a = {a} and b = {b}\")\n",
    "\n",
    "\n"
   ]
  },
  {
   "cell_type": "markdown",
   "metadata": {},
   "source": [
    "#### Python program to create a random number"
   ]
  },
  {
   "cell_type": "code",
   "execution_count": 5,
   "metadata": {},
   "outputs": [
    {
     "name": "stdout",
     "output_type": "stream",
     "text": [
      "Random number = 22\n"
     ]
    }
   ],
   "source": [
    "import random\n",
    "print(f\"Random number = {random.randint(1,100)}\")"
   ]
  },
  {
   "cell_type": "markdown",
   "metadata": {},
   "source": [
    "#### Python program to convert Kilometers to Miles. "
   ]
  },
  {
   "cell_type": "code",
   "execution_count": 1,
   "metadata": {},
   "outputs": [
    {
     "name": "stdout",
     "output_type": "stream",
     "text": [
      "10.0 km is equals to 6.21371 miles\n"
     ]
    }
   ],
   "source": [
    "Kilometer = float(input(\"Enter distance in Kilometers:\"))\n",
    "\n",
    "#Conversion factor : 1 kilometer = 0.621371 miles\n",
    "conversion_factor = 0.621371\n",
    "\n",
    "miles = Kilometer * conversion_factor\n",
    "\n",
    "print(f\"{Kilometer} km is equals to {miles} miles\")"
   ]
  },
  {
   "cell_type": "markdown",
   "metadata": {},
   "source": [
    "#### Python program to convert celsius to fahrenheit"
   ]
  },
  {
   "cell_type": "code",
   "execution_count": 3,
   "metadata": {},
   "outputs": [
    {
     "name": "stdout",
     "output_type": "stream",
     "text": [
      "50.0 degree celsius is equals to 122.0 degree fahrenheit\n"
     ]
    }
   ],
   "source": [
    "celsius = float(input(\"Enter temperature in Celsius: \"))\n",
    "\n",
    "#Conversion formula : Fahrenheit = (celsius * 9/5) + 32\n",
    "fahrenheit = (celsius * 9/5) +32\n",
    "\n",
    "print(f\"{celsius} degree celsius is equals to {fahrenheit} degree fahrenheit\")"
   ]
  },
  {
   "cell_type": "markdown",
   "metadata": {},
   "source": [
    "#### Python program to display calendar"
   ]
  },
  {
   "cell_type": "code",
   "execution_count": 5,
   "metadata": {},
   "outputs": [
    {
     "name": "stdout",
     "output_type": "stream",
     "text": [
      "    October 2000\n",
      "Mo Tu We Th Fr Sa Su\n",
      "                   1\n",
      " 2  3  4  5  6  7  8\n",
      " 9 10 11 12 13 14 15\n",
      "16 17 18 19 20 21 22\n",
      "23 24 25 26 27 28 29\n",
      "30 31\n",
      "\n"
     ]
    }
   ],
   "source": [
    "import calendar\n",
    "\n",
    "year = int(input(\"Enter year:\"))\n",
    "month = int(input(\"Enter a Month: \"))\n",
    "\n",
    "cal = calendar.month(year,month)\n",
    "\n",
    "print(cal)"
   ]
  },
  {
   "cell_type": "markdown",
   "metadata": {},
   "source": [
    "#### Python program to solve quadratic equation"
   ]
  },
  {
   "cell_type": "markdown",
   "metadata": {},
   "source": [
    "The standard form of a quadratic equation is:\n",
    "ax^2 + bx + c =0\n",
    " where\n",
    " a, b and c are real numbers and\n",
    " 𝑎 ≠ 0\n",
    " The solutions of this quadratic equation is given by:\n",
    "                (-b +- (b^2 - 4ac)^1/2)/(2a)"
   ]
  },
  {
   "cell_type": "code",
   "execution_count": 3,
   "metadata": {},
   "outputs": [
    {
     "name": "stdout",
     "output_type": "stream",
     "text": [
      "Root 1: -2.0 + 2.0i\n",
      "Root 2: -2.0 + 2.0i\n"
     ]
    }
   ],
   "source": [
    "import math\n",
    "\n",
    "#Input coefficients\n",
    "a = float(input(\"Enter coefficient a: \"))\n",
    "b = float(input(\"Enter coefficient b: \"))\n",
    "c = float(input(\"Enter coefficient c: \"))\n",
    "\n",
    "#Calculate the discriminant \n",
    "discriminant = b**2 - 4*a*c\n",
    "\n",
    "#Check if the discriminant is positive, negative or zero.\n",
    "if discriminant > 0:\n",
    "    #Two real and  distinct roots\n",
    "    root1 = (-b + math.sqrt(discriminant)) / (2*a)\n",
    "    root2 = (-b - math.sqrt(discriminant)) / (2*a)\n",
    "    print(f\"Root 1: {root1}\")\n",
    "    print(f\"Root 2: {root2}\")\n",
    "elif discriminant ==0:\n",
    "    #One real root (repeated)\n",
    "    root = -b / (2*a)\n",
    "    print(f\"Root: {root}\")\n",
    "else:\n",
    "    #Complex roots\n",
    "    real_part = -b / (2*a)\n",
    "    imaginary_part = math.sqrt(abs(discriminant)) / (2*a)\n",
    "    print(f\"Root 1: {real_part} + {imaginary_part}i\")\n",
    "    print(f\"Root 2: {real_part} + {imaginary_part}i\")\n",
    "    "
   ]
  },
  {
   "cell_type": "code",
   "execution_count": null,
   "metadata": {},
   "outputs": [],
   "source": []
  },
  {
   "cell_type": "code",
   "execution_count": null,
   "metadata": {},
   "outputs": [],
   "source": []
  }
 ],
 "metadata": {
  "kernelspec": {
   "display_name": "base",
   "language": "python",
   "name": "python3"
  },
  "language_info": {
   "codemirror_mode": {
    "name": "ipython",
    "version": 3
   },
   "file_extension": ".py",
   "mimetype": "text/x-python",
   "name": "python",
   "nbconvert_exporter": "python",
   "pygments_lexer": "ipython3",
   "version": "3.11.9"
  }
 },
 "nbformat": 4,
 "nbformat_minor": 2
}
